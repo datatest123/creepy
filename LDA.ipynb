{
 "cells": [
  {
   "cell_type": "markdown",
   "metadata": {},
   "source": [
    "In this notebook, I continue to explore story clustering using Latent Dirichlet Allocation (LDA)"
   ]
  },
  {
   "cell_type": "code",
   "execution_count": 1,
   "metadata": {},
   "outputs": [],
   "source": [
    "import pandas as pd\n",
    "import pickle\n",
    "import scipy.sparse as ss\n",
    "import matplotlib.pyplot as plt\n",
    "\n",
    "from gensim import matutils, models\n",
    "from nltk import word_tokenize, pos_tag\n",
    "from sklearn.feature_extraction import text\n",
    "from sklearn.feature_extraction.text import TfidfVectorizer\n",
    "from gensim.models.coherencemodel import CoherenceModel"
   ]
  },
  {
   "cell_type": "markdown",
   "metadata": {},
   "source": [
    "To reduce noise, I filler out all words except nouns and adjectives. "
   ]
  },
  {
   "cell_type": "code",
   "execution_count": 2,
   "metadata": {},
   "outputs": [],
   "source": [
    "def noun_adj(story):\n",
    "    noun_adj_test = lambda x: x[:2] == 'NN' or x[:2] == 'JJ'\n",
    "    tokenized = word_tokenize(story)\n",
    "    all_nouns_adj = [word for (word, pos) in pos_tag(tokenized) if noun_adj_test(pos)] \n",
    "    return ' '.join(all_nouns_adj)"
   ]
  },
  {
   "cell_type": "code",
   "execution_count": 3,
   "metadata": {},
   "outputs": [],
   "source": [
    "stories = pd.read_pickle('files/corpus.pkl')\n",
    "stories['story'] = stories['story'].apply(noun_adj)"
   ]
  },
  {
   "cell_type": "markdown",
   "metadata": {},
   "source": [
    "The TF-IDF vectorizer is used to create a dtm as before."
   ]
  },
  {
   "cell_type": "code",
   "execution_count": 4,
   "metadata": {},
   "outputs": [],
   "source": [
    "# remove common noise words\n",
    "extras = ['like', 'just', 'said', 'im', 'didnt', 'dont', 'did', 'youre', 'youare', 'werent']\n",
    "stop_words = text.ENGLISH_STOP_WORDS.union(extras)"
   ]
  },
  {
   "cell_type": "code",
   "execution_count": 5,
   "metadata": {},
   "outputs": [
    {
     "data": {
      "text/plain": [
       "<3499x53141 sparse matrix of type '<class 'numpy.float64'>'\n",
       "\twith 1495510 stored elements in Compressed Sparse Row format>"
      ]
     },
     "execution_count": 5,
     "metadata": {},
     "output_type": "execute_result"
    }
   ],
   "source": [
    "vectorizer = TfidfVectorizer(stop_words=stop_words, max_df=0.8)\n",
    "X = vectorizer.fit_transform(stories['story'])\n",
    "X"
   ]
  },
  {
   "cell_type": "code",
   "execution_count": 6,
   "metadata": {},
   "outputs": [],
   "source": [
    "# create corpus and term dictionary \n",
    "corpus = matutils.Sparse2Corpus(X)\n",
    "id2word = dict((v, k) for k, v in vectorizer.vocabulary_.items())"
   ]
  },
  {
   "cell_type": "markdown",
   "metadata": {},
   "source": [
    "I use the same UMass Coherence Model as before to find the optimal number of word combinations"
   ]
  },
  {
   "cell_type": "code",
   "execution_count": 7,
   "metadata": {},
   "outputs": [],
   "source": [
    "scores = []\n",
    "\n",
    "for n in range(2,51):\n",
    "    lda = models.LdaModel(corpus, id2word=id2word, num_topics=n, passes=10)\n",
    "    cm = CoherenceModel(model=lda, corpus=corpus, coherence='u_mass')\n",
    "    scores.append(cm.get_coherence())"
   ]
  },
  {
   "cell_type": "code",
   "execution_count": 8,
   "metadata": {},
   "outputs": [
    {
     "data": {
      "text/plain": [
       "Text(0, 0.5, 'Coherence score')"
      ]
     },
     "execution_count": 8,
     "metadata": {},
     "output_type": "execute_result"
    },
    {
     "data": {
      "image/png": "[encoded data removed]",
      "text/plain": [
       "<Figure size 432x288 with 1 Axes>"
      ]
     },
     "metadata": {
      "needs_background": "light"
     },
     "output_type": "display_data"
    }
   ],
   "source": [
    "plt.plot(range(2,51), scores)\n",
    "plt.xlabel(\"Num Topics\")\n",
    "plt.ylabel(\"Coherence score\")"
   ]
  },
  {
   "cell_type": "markdown",
   "metadata": {},
   "source": [
    "LDA directly reveals word combinations as topics for clustering. "
   ]
  },
  {
   "cell_type": "code",
   "execution_count": 9,
   "metadata": {},
   "outputs": [
    {
     "data": {
      "text/plain": [
       "48"
      ]
     },
     "execution_count": 9,
     "metadata": {},
     "output_type": "execute_result"
    }
   ],
   "source": [
    "# ranges from 2 to 50, so add 2 to get best number\n",
    "scores.index(max(scores))+2"
   ]
  },
  {
   "cell_type": "code",
   "execution_count": 10,
   "metadata": {},
   "outputs": [
    {
     "data": {
      "text/plain": [
       "[(36,\n",
       "  '0.000*\"pondicher\" + 0.000*\"ponders\" + 0.000*\"pong\" + 0.000*\"pondweed\" + 0.000*\"ponds\" + 0.000*\"pontiac\" + 0.000*\"ponderings\" + 0.000*\"ponderosa\" + 0.000*\"pontoon\" + 0.000*\"ponderous\"'),\n",
       " (17,\n",
       "  '0.000*\"pondicher\" + 0.000*\"ponders\" + 0.000*\"pong\" + 0.000*\"pondweed\" + 0.000*\"ponds\" + 0.000*\"pontiac\" + 0.000*\"ponderings\" + 0.000*\"ponderosa\" + 0.000*\"pontoon\" + 0.000*\"ponderous\"'),\n",
       " (38,\n",
       "  '0.000*\"pondicher\" + 0.000*\"ponders\" + 0.000*\"pong\" + 0.000*\"pondweed\" + 0.000*\"ponds\" + 0.000*\"pontiac\" + 0.000*\"ponderings\" + 0.000*\"ponderosa\" + 0.000*\"pontoon\" + 0.000*\"ponderous\"'),\n",
       " (21,\n",
       "  '0.007*\"balsa\" + 0.007*\"archaeologists\" + 0.007*\"barbar\" + 0.007*\"afoul\" + 0.006*\"atuteran\" + 0.006*\"alarms\" + 0.006*\"alrightgrab\" + 0.005*\"assassins\" + 0.005*\"awol\" + 0.005*\"babeshow\"'),\n",
       " (33,\n",
       "  '0.000*\"pondicher\" + 0.000*\"ponders\" + 0.000*\"pong\" + 0.000*\"pondweed\" + 0.000*\"ponds\" + 0.000*\"pontiac\" + 0.000*\"ponderings\" + 0.000*\"ponderosa\" + 0.000*\"pontoon\" + 0.000*\"ponderous\"'),\n",
       " (18,\n",
       "  '0.000*\"pondicher\" + 0.000*\"ponders\" + 0.000*\"pong\" + 0.000*\"pondweed\" + 0.000*\"ponds\" + 0.000*\"pontiac\" + 0.000*\"ponderings\" + 0.000*\"ponderosa\" + 0.000*\"pontoon\" + 0.000*\"ponderous\"'),\n",
       " (27,\n",
       "  '0.005*\"baghdad\" + 0.005*\"actorsthe\" + 0.003*\"ave\" + 0.003*\"atmosphere\" + 0.003*\"badass\" + 0.003*\"auswitz\" + 0.003*\"backuntil\" + 0.003*\"baggins\" + 0.003*\"afford\" + 0.003*\"bacterias\"'),\n",
       " (37,\n",
       "  '0.000*\"pondicher\" + 0.000*\"ponders\" + 0.000*\"pong\" + 0.000*\"pondweed\" + 0.000*\"ponds\" + 0.000*\"pontiac\" + 0.000*\"ponderings\" + 0.000*\"ponderosa\" + 0.000*\"pontoon\" + 0.000*\"ponderous\"'),\n",
       " (13,\n",
       "  '0.000*\"pondicher\" + 0.000*\"ponders\" + 0.000*\"pong\" + 0.000*\"pondweed\" + 0.000*\"ponds\" + 0.000*\"pontiac\" + 0.000*\"ponderings\" + 0.000*\"ponderosa\" + 0.000*\"pontoon\" + 0.000*\"ponderous\"'),\n",
       " (43,\n",
       "  '0.000*\"pondicher\" + 0.000*\"ponders\" + 0.000*\"pong\" + 0.000*\"pondweed\" + 0.000*\"ponds\" + 0.000*\"pontiac\" + 0.000*\"ponderings\" + 0.000*\"ponderosa\" + 0.000*\"pontoon\" + 0.000*\"ponderous\"'),\n",
       " (28,\n",
       "  '0.000*\"pondicher\" + 0.000*\"ponders\" + 0.000*\"pong\" + 0.000*\"pondweed\" + 0.000*\"ponds\" + 0.000*\"pontiac\" + 0.000*\"ponderings\" + 0.000*\"ponderosa\" + 0.000*\"pontoon\" + 0.000*\"ponderous\"'),\n",
       " (34,\n",
       "  '0.000*\"pondicher\" + 0.000*\"ponders\" + 0.000*\"pong\" + 0.000*\"pondweed\" + 0.000*\"ponds\" + 0.000*\"pontiac\" + 0.000*\"ponderings\" + 0.000*\"ponderosa\" + 0.000*\"pontoon\" + 0.000*\"ponderous\"'),\n",
       " (10,\n",
       "  '0.000*\"pondicher\" + 0.000*\"ponders\" + 0.000*\"pong\" + 0.000*\"pondweed\" + 0.000*\"ponds\" + 0.000*\"pontiac\" + 0.000*\"ponderings\" + 0.000*\"ponderosa\" + 0.000*\"pontoon\" + 0.000*\"ponderous\"'),\n",
       " (7,\n",
       "  '0.000*\"pondicher\" + 0.000*\"ponders\" + 0.000*\"pong\" + 0.000*\"pondweed\" + 0.000*\"ponds\" + 0.000*\"pontiac\" + 0.000*\"ponderings\" + 0.000*\"ponderosa\" + 0.000*\"pontoon\" + 0.000*\"ponderous\"'),\n",
       " (23,\n",
       "  '0.001*\"barbaras\" + 0.000*\"ponds\" + 0.000*\"ponders\" + 0.000*\"ponky\" + 0.000*\"pong\" + 0.000*\"pondweed\" + 0.000*\"pontificate\" + 0.000*\"ponderings\" + 0.000*\"ponderosa\" + 0.000*\"pondicher\"'),\n",
       " (3,\n",
       "  '0.000*\"pondicher\" + 0.000*\"ponders\" + 0.000*\"pong\" + 0.000*\"pondweed\" + 0.000*\"ponds\" + 0.000*\"pontiac\" + 0.000*\"ponderings\" + 0.000*\"ponderosa\" + 0.000*\"pontoon\" + 0.000*\"ponderous\"'),\n",
       " (42,\n",
       "  '0.000*\"pondicher\" + 0.000*\"ponders\" + 0.000*\"pong\" + 0.000*\"pondweed\" + 0.000*\"ponds\" + 0.000*\"pontiac\" + 0.000*\"ponderings\" + 0.000*\"ponderosa\" + 0.000*\"pontoon\" + 0.000*\"ponderous\"'),\n",
       " (4,\n",
       "  '0.000*\"pondicher\" + 0.000*\"ponders\" + 0.000*\"pong\" + 0.000*\"pondweed\" + 0.000*\"ponds\" + 0.000*\"pontiac\" + 0.000*\"ponderings\" + 0.000*\"ponderosa\" + 0.000*\"pontoon\" + 0.000*\"ponderous\"'),\n",
       " (24,\n",
       "  '0.006*\"abracadabra\" + 0.005*\"arsenic\" + 0.005*\"ammount\" + 0.005*\"antinet\" + 0.005*\"azathoth\" + 0.005*\"answerperhaps\" + 0.005*\"atropos\" + 0.005*\"aack\" + 0.005*\"airit\" + 0.005*\"armani\"'),\n",
       " (9,\n",
       "  '0.006*\"aggie\" + 0.005*\"ahll\" + 0.005*\"arsonist\" + 0.005*\"andys\" + 0.005*\"acrylic\" + 0.005*\"australia\" + 0.005*\"anxiousness\" + 0.005*\"assas\" + 0.005*\"askedhes\" + 0.005*\"adehe\"')]"
      ]
     },
     "execution_count": 10,
     "metadata": {},
     "output_type": "execute_result"
    }
   ],
   "source": [
    "lda = models.LdaModel(corpus=corpus, num_topics=48, id2word=id2word, passes=10)\n",
    "lda.print_topics()"
   ]
  },
  {
   "cell_type": "markdown",
   "metadata": {},
   "source": [
    "The log perplexity evaluates the cohesion of the word clusters. Lower values are better."
   ]
  },
  {
   "cell_type": "code",
   "execution_count": 11,
   "metadata": {},
   "outputs": [
    {
     "data": {
      "text/plain": [
       "-19.37487794116926"
      ]
     },
     "execution_count": 11,
     "metadata": {},
     "output_type": "execute_result"
    }
   ],
   "source": [
    "lda.log_perplexity(corpus)"
   ]
  },
  {
   "cell_type": "code",
   "execution_count": 13,
   "metadata": {},
   "outputs": [
    {
     "data": {
      "text/plain": [
       "[(0,\n",
       "  '0.001*\"afro\" + 0.001*\"admired\" + 0.001*\"aging\" + 0.001*\"auditorium\" + 0.001*\"acquiescence\" + 0.001*\"acquisitive\" + 0.001*\"accuse\" + 0.001*\"argues\" + 0.001*\"albany\" + 0.001*\"annotation\"'),\n",
       " (1,\n",
       "  '0.000*\"attribute\" + 0.000*\"accur\" + 0.000*\"aerosmith\" + 0.000*\"acuity\" + 0.000*\"afro\" + 0.000*\"againwelljack\" + 0.000*\"advertisementstime\" + 0.000*\"auf\" + 0.000*\"aut\" + 0.000*\"agohe\"'),\n",
       " (2,\n",
       "  '0.000*\"attribute\" + 0.000*\"accur\" + 0.000*\"aerosmith\" + 0.000*\"acuity\" + 0.000*\"afro\" + 0.000*\"againwelljack\" + 0.000*\"advertisementstime\" + 0.000*\"auf\" + 0.000*\"aut\" + 0.000*\"agohe\"'),\n",
       " (3,\n",
       "  '0.000*\"attribute\" + 0.000*\"accur\" + 0.000*\"aerosmith\" + 0.000*\"acuity\" + 0.000*\"afro\" + 0.000*\"againwelljack\" + 0.000*\"advertisementstime\" + 0.000*\"auf\" + 0.000*\"aut\" + 0.000*\"agohe\"'),\n",
       " (4,\n",
       "  '0.000*\"attribute\" + 0.000*\"accur\" + 0.000*\"aerosmith\" + 0.000*\"acuity\" + 0.000*\"afro\" + 0.000*\"againwelljack\" + 0.000*\"advertisementstime\" + 0.000*\"auf\" + 0.000*\"aut\" + 0.000*\"agohe\"')]"
      ]
     },
     "execution_count": 13,
     "metadata": {},
     "output_type": "execute_result"
    }
   ],
   "source": [
    "lda = models.LdaModel(corpus=corpus, num_topics=5, id2word=id2word, passes=10)\n",
    "lda.print_topics()"
   ]
  },
  {
   "cell_type": "code",
   "execution_count": 14,
   "metadata": {},
   "outputs": [
    {
     "data": {
      "text/plain": [
       "-9.675164887130425"
      ]
     },
     "execution_count": 14,
     "metadata": {},
     "output_type": "execute_result"
    }
   ],
   "source": [
    "lda.log_perplexity(corpus)"
   ]
  }
 ],
 "metadata": {
  "kernelspec": {
   "display_name": "Python 3",
   "language": "python",
   "name": "python3"
  },
  "language_info": {
   "codemirror_mode": {
    "name": "ipython",
    "version": 3
   },
   "file_extension": ".py",
   "mimetype": "text/x-python",
   "name": "python",
   "nbconvert_exporter": "python",
   "pygments_lexer": "ipython3",
   "version": "3.7.3"
  }
 },
 "nbformat": 4,
 "nbformat_minor": 4
}
